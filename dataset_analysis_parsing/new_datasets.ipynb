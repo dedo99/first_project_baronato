{
 "cells": [
  {
   "cell_type": "code",
   "execution_count": 1,
   "metadata": {},
   "outputs": [],
   "source": [
    "import pandas as pd"
   ]
  },
  {
   "cell_type": "code",
   "execution_count": 2,
   "metadata": {},
   "outputs": [],
   "source": [
    "df = pd.read_csv('/home/pietro/Documenti/BigData/first_project_baronato//Reviews_parsed.csv')"
   ]
  },
  {
   "cell_type": "code",
   "execution_count": 10,
   "metadata": {},
   "outputs": [],
   "source": [
    "half_df = pd.DataFrame\n",
    "half_df = df[:-int(len(df)/2)]\n",
    "half_df.to_csv('/home/pietro/Documenti/BigData/first_project_baronato/Half_Reviews.csv', index = None)"
   ]
  },
  {
   "cell_type": "code",
   "execution_count": 16,
   "metadata": {},
   "outputs": [],
   "source": [
    "df2 = pd.read_csv('/home/pietro/Documenti/BigData/first_project_baronato//Reviews_parsed.csv')\n",
    "df2.Time = df2.Time + 1\n",
    "df2.Id = df2.Id + len(df)"
   ]
  },
  {
   "cell_type": "code",
   "execution_count": 25,
   "metadata": {},
   "outputs": [],
   "source": [
    "double_df = pd.DataFrame\n",
    "double_df = pd.concat([df, df2])\n",
    "double_df.to_csv('/home/pietro/Documenti/BigData/first_project_baronato/Double_Reviews.csv', index = None)"
   ]
  },
  {
   "cell_type": "code",
   "execution_count": 30,
   "metadata": {},
   "outputs": [],
   "source": [
    "df3 = pd.read_csv('/home/pietro/Documenti/BigData/first_project_baronato/Double_Reviews.csv')\n",
    "df3.Time = df3.Time + 1\n",
    "df3.Id = df3.Id + len(double_df)"
   ]
  },
  {
   "cell_type": "code",
   "execution_count": 33,
   "metadata": {},
   "outputs": [],
   "source": [
    "quadruple_df = pd.DataFrame\n",
    "quadruple_df = pd.concat([double_df, df3])\n",
    "quadruple_df.to_csv('/home/pietro/Documenti/BigData/first_project_baronato/Quadruple_Reviews.csv', index = None)"
   ]
  }
 ],
 "metadata": {
  "kernelspec": {
   "display_name": "Python 3",
   "language": "python",
   "name": "python3"
  },
  "language_info": {
   "codemirror_mode": {
    "name": "ipython",
    "version": 3
   },
   "file_extension": ".py",
   "mimetype": "text/x-python",
   "name": "python",
   "nbconvert_exporter": "python",
   "pygments_lexer": "ipython3",
   "version": "3.10.6"
  },
  "orig_nbformat": 4
 },
 "nbformat": 4,
 "nbformat_minor": 2
}
